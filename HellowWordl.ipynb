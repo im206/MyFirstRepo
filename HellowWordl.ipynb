{
 "cells": [
  {
   "cell_type": "code",
   "execution_count": 4,
   "id": "2b557a48-27e5-4850-bdb8-ed6ad53bd122",
   "metadata": {},
   "outputs": [
    {
     "name": "stdout",
     "output_type": "stream",
     "text": [
      "Hello, world!\n"
     ]
    }
   ],
   "source": [
    "print(\"Hello, world!\")"
   ]
  },
  {
   "cell_type": "markdown",
   "id": "69161b63-af7d-4b7b-bf2b-a30df299f036",
   "metadata": {},
   "source": [
    "# My First Markdown Heading"
   ]
  },
  {
   "cell_type": "markdown",
   "id": "e1cfdc00-8a20-4907-8757-86c48d5cadc1",
   "metadata": {},
   "source": [
    "## My  Second Markdown Heading"
   ]
  },
  {
   "cell_type": "markdown",
   "id": "8643fd0d-9a7e-4113-921e-21c6886c8265",
   "metadata": {},
   "source": [
    "This is some **bold** text"
   ]
  },
  {
   "cell_type": "markdown",
   "id": "bc5c4efe-fe27-4769-ad68-9390706af25f",
   "metadata": {},
   "source": [
    "1. First Item\n",
    "2. Second Item\n",
    "3. Third Item"
   ]
  },
  {
   "cell_type": "code",
   "execution_count": 7,
   "id": "4cf9699c-e367-4d7c-81fd-6988ef529de6",
   "metadata": {},
   "outputs": [],
   "source": [
    "my_var = 5"
   ]
  },
  {
   "cell_type": "code",
   "execution_count": 11,
   "id": "feab3810-fa15-4574-8f61-b358f1a0d919",
   "metadata": {},
   "outputs": [
    {
     "name": "stdout",
     "output_type": "stream",
     "text": [
      "10\n"
     ]
    }
   ],
   "source": [
    "result = my_var * 2\n",
    "print(result)"
   ]
  },
  {
   "cell_type": "code",
   "execution_count": null,
   "id": "1528c22b-f07c-4357-8121-9269a7c2c8db",
   "metadata": {},
   "outputs": [],
   "source": [
    "\n"
   ]
  }
 ],
 "metadata": {
  "kernelspec": {
   "display_name": "Python 3 (ipykernel)",
   "language": "python",
   "name": "python3"
  },
  "language_info": {
   "codemirror_mode": {
    "name": "ipython",
    "version": 3
   },
   "file_extension": ".py",
   "mimetype": "text/x-python",
   "name": "python",
   "nbconvert_exporter": "python",
   "pygments_lexer": "ipython3",
   "version": "3.10.9"
  }
 },
 "nbformat": 4,
 "nbformat_minor": 5
}
